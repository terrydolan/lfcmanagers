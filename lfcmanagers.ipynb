{
 "cells": [
  {
   "cell_type": "markdown",
   "metadata": {},
   "source": [
    "# LFC Data Analysis: LFC Managers\n",
    "\n",
    "See Terry's blog [Being Liverpool Manager](http://www.lfcsorted.com/2015/10/being-liverpool-manager.html) for a discussion of the data analysis."
   ]
  },
  {
   "cell_type": "markdown",
   "metadata": {},
   "source": [
    "This notebook analyses the performance of Liverpool's most recent managers at 4th October 2015.\n",
    "\n",
    "The analysis uses [IPython Notebook](http://ipython.org/notebook.html), [python](https://www.python.org/), [pandas](http://pandas.pydata.org/) and [matplotlib](http://matplotlib.org/) to explore the data. "
   ]
  },
  {
   "cell_type": "markdown",
   "metadata": {},
   "source": [
    "## Set-up"
   ]
  },
  {
   "cell_type": "markdown",
   "metadata": {},
   "source": [
    "Import the modules needed for the analysis."
   ]
  },
  {
   "cell_type": "code",
   "execution_count": 1,
   "metadata": {
    "collapsed": true
   },
   "outputs": [],
   "source": [
    "import pandas as pd\n",
    "import matplotlib as mpl\n",
    "import matplotlib.pyplot as plt\n",
    "import numpy as np\n",
    "import sys\n",
    "import collections\n",
    "from datetime import datetime\n",
    "from __future__ import division\n",
    "\n",
    "# enable inline plotting\n",
    "%matplotlib inline"
   ]
  },
  {
   "cell_type": "markdown",
   "metadata": {},
   "source": [
    "Print version numbers."
   ]
  },
  {
   "cell_type": "code",
   "execution_count": 2,
   "metadata": {
    "collapsed": false
   },
   "outputs": [
    {
     "name": "stdout",
     "output_type": "stream",
     "text": [
      "python version: 2.7.10 |Anaconda 2.3.0 (64-bit)| (default, May 28 2015, 16:44:52) [MSC v.1500 64 bit (AMD64)]\n",
      "pandas version: 0.16.2\n",
      "matplotlib version: 1.4.3\n",
      "numpy version: 1.9.2\n"
     ]
    }
   ],
   "source": [
    "print 'python version: {}'.format(sys.version)\n",
    "print 'pandas version: {}'.format(pd.__version__)\n",
    "print 'matplotlib version: {}'.format(mpl.__version__)\n",
    "print 'numpy version: {}'.format(np.__version__)"
   ]
  },
  {
   "cell_type": "markdown",
   "metadata": {},
   "source": [
    "## Load the data into a dataframes and munge"
   ]
  },
  {
   "cell_type": "markdown",
   "metadata": {},
   "source": [
    "#### Create dataframe of LFC games\n",
    "Data source: lfchistory.net"
   ]
  },
  {
   "cell_type": "code",
   "execution_count": 3,
   "metadata": {
    "collapsed": false
   },
   "outputs": [
    {
     "data": {
      "text/plain": [
       "(5473, 9)"
      ]
     },
     "execution_count": 3,
     "metadata": {},
     "output_type": "execute_result"
    }
   ],
   "source": [
    "from datetime import datetime\n",
    "DATA_EXTRACT_DATE = '4th Oct 2015'\n",
    "LFC_GAMES_CSV_FILE = 'data\\lfc_games_official_4thOct2015.csv' # output csv file to contain official games (excludes friendlies)\n",
    "dflfc_games = pd.read_csv(LFC_GAMES_CSV_FILE, parse_dates=['Date'], \n",
    "                         date_parser=lambda x: datetime.strptime(x, '%d.%m.%Y'))\n",
    "\n",
    "# show shape\n",
    "dflfc_games.shape"
   ]
  },
  {
   "cell_type": "code",
   "execution_count": 4,
   "metadata": {
    "collapsed": false
   },
   "outputs": [
    {
     "data": {
      "text/plain": [
       "Season                 object\n",
       "Date           datetime64[ns]\n",
       "Score                  object\n",
       "GF                      int64\n",
       "GA                      int64\n",
       "Result                 object\n",
       "Opposition             object\n",
       "Stadium                object\n",
       "Competition            object\n",
       "dtype: object"
      ]
     },
     "execution_count": 4,
     "metadata": {},
     "output_type": "execute_result"
    }
   ],
   "source": [
    "# check data types\n",
    "dflfc_games.dtypes"
   ]
  },
  {
   "cell_type": "code",
   "execution_count": 5,
   "metadata": {
    "collapsed": false
   },
   "outputs": [
    {
     "data": {
      "text/html": [
       "<div>\n",
       "<table border=\"1\" class=\"dataframe\">\n",
       "  <thead>\n",
       "    <tr style=\"text-align: right;\">\n",
       "      <th></th>\n",
       "      <th>Season</th>\n",
       "      <th>Date</th>\n",
       "      <th>Score</th>\n",
       "      <th>GF</th>\n",
       "      <th>GA</th>\n",
       "      <th>Result</th>\n",
       "      <th>Opposition</th>\n",
       "      <th>Stadium</th>\n",
       "      <th>Competition</th>\n",
       "    </tr>\n",
       "  </thead>\n",
       "  <tbody>\n",
       "    <tr>\n",
       "      <th>0</th>\n",
       "      <td>1892-1893</td>\n",
       "      <td>1892-09-03 00:00:00</td>\n",
       "      <td>8 - 0</td>\n",
       "      <td>8</td>\n",
       "      <td>0</td>\n",
       "      <td>W</td>\n",
       "      <td>Higher Walton</td>\n",
       "      <td>Anfield</td>\n",
       "      <td>Lancashire League</td>\n",
       "    </tr>\n",
       "    <tr>\n",
       "      <th>1</th>\n",
       "      <td>1892-1893</td>\n",
       "      <td>1892-09-24 00:00:00</td>\n",
       "      <td>4 - 0</td>\n",
       "      <td>4</td>\n",
       "      <td>0</td>\n",
       "      <td>W</td>\n",
       "      <td>Bury</td>\n",
       "      <td>Anfield</td>\n",
       "      <td>Lancashire League</td>\n",
       "    </tr>\n",
       "    <tr>\n",
       "      <th>2</th>\n",
       "      <td>1892-1893</td>\n",
       "      <td>1892-10-01 00:00:00</td>\n",
       "      <td>3 - 1</td>\n",
       "      <td>3</td>\n",
       "      <td>1</td>\n",
       "      <td>W</td>\n",
       "      <td>West Manchester</td>\n",
       "      <td>Anfield</td>\n",
       "      <td>Lancashire League</td>\n",
       "    </tr>\n",
       "    <tr>\n",
       "      <th>3</th>\n",
       "      <td>1892-1893</td>\n",
       "      <td>1892-10-15 00:00:00</td>\n",
       "      <td>4 - 0</td>\n",
       "      <td>4</td>\n",
       "      <td>0</td>\n",
       "      <td>W</td>\n",
       "      <td>Nantwich</td>\n",
       "      <td>Nantwich Road</td>\n",
       "      <td>FA Cup 1st Qualifier</td>\n",
       "    </tr>\n",
       "    <tr>\n",
       "      <th>4</th>\n",
       "      <td>1892-1893</td>\n",
       "      <td>1892-10-22 00:00:00</td>\n",
       "      <td>5 - 0</td>\n",
       "      <td>5</td>\n",
       "      <td>0</td>\n",
       "      <td>W</td>\n",
       "      <td>Higher Walton</td>\n",
       "      <td>Moon's Mill</td>\n",
       "      <td>Lancashire League</td>\n",
       "    </tr>\n",
       "  </tbody>\n",
       "</table>\n",
       "</div>"
      ],
      "text/plain": [
       "      Season                Date  Score  GF  GA Result       Opposition  \\\n",
       "0  1892-1893 1892-09-03 00:00:00  8 - 0   8   0      W    Higher Walton   \n",
       "1  1892-1893 1892-09-24 00:00:00  4 - 0   4   0      W             Bury   \n",
       "2  1892-1893 1892-10-01 00:00:00  3 - 1   3   1      W  West Manchester   \n",
       "3  1892-1893 1892-10-15 00:00:00  4 - 0   4   0      W         Nantwich   \n",
       "4  1892-1893 1892-10-22 00:00:00  5 - 0   5   0      W    Higher Walton   \n",
       "\n",
       "         Stadium           Competition  \n",
       "0        Anfield     Lancashire League  \n",
       "1        Anfield     Lancashire League  \n",
       "2        Anfield     Lancashire League  \n",
       "3  Nantwich Road  FA Cup 1st Qualifier  \n",
       "4    Moon's Mill     Lancashire League  "
      ]
     },
     "execution_count": 5,
     "metadata": {},
     "output_type": "execute_result"
    }
   ],
   "source": [
    "dflfc_games.head()"
   ]
  },
  {
   "cell_type": "code",
   "execution_count": 6,
   "metadata": {
    "collapsed": false
   },
   "outputs": [
    {
     "data": {
      "text/html": [
       "<div>\n",
       "<table border=\"1\" class=\"dataframe\">\n",
       "  <thead>\n",
       "    <tr style=\"text-align: right;\">\n",
       "      <th></th>\n",
       "      <th>Season</th>\n",
       "      <th>Date</th>\n",
       "      <th>Score</th>\n",
       "      <th>GF</th>\n",
       "      <th>GA</th>\n",
       "      <th>Result</th>\n",
       "      <th>Opposition</th>\n",
       "      <th>Stadium</th>\n",
       "      <th>Competition</th>\n",
       "    </tr>\n",
       "  </thead>\n",
       "  <tbody>\n",
       "    <tr>\n",
       "      <th>5265</th>\n",
       "      <td>2011-2012</td>\n",
       "      <td>2011-10-15</td>\n",
       "      <td>1 - 1</td>\n",
       "      <td>1</td>\n",
       "      <td>1</td>\n",
       "      <td>D</td>\n",
       "      <td>Manchester United</td>\n",
       "      <td>Anfield</td>\n",
       "      <td>Premier League</td>\n",
       "    </tr>\n",
       "    <tr>\n",
       "      <th>5285</th>\n",
       "      <td>2011-2012</td>\n",
       "      <td>2012-01-28</td>\n",
       "      <td>2 - 1</td>\n",
       "      <td>2</td>\n",
       "      <td>1</td>\n",
       "      <td>W</td>\n",
       "      <td>Manchester United</td>\n",
       "      <td>Anfield</td>\n",
       "      <td>FA Cup 4th round</td>\n",
       "    </tr>\n",
       "    <tr>\n",
       "      <th>5288</th>\n",
       "      <td>2011-2012</td>\n",
       "      <td>2012-02-11</td>\n",
       "      <td>1 - 2</td>\n",
       "      <td>1</td>\n",
       "      <td>2</td>\n",
       "      <td>L</td>\n",
       "      <td>Manchester United</td>\n",
       "      <td>Old Trafford</td>\n",
       "      <td>Premier League</td>\n",
       "    </tr>\n",
       "  </tbody>\n",
       "</table>\n",
       "</div>"
      ],
      "text/plain": [
       "         Season       Date  Score  GF  GA Result         Opposition  \\\n",
       "5265  2011-2012 2011-10-15  1 - 1   1   1      D  Manchester United   \n",
       "5285  2011-2012 2012-01-28  2 - 1   2   1      W  Manchester United   \n",
       "5288  2011-2012 2012-02-11  1 - 2   1   2      L  Manchester United   \n",
       "\n",
       "           Stadium       Competition  \n",
       "5265       Anfield    Premier League  \n",
       "5285       Anfield  FA Cup 4th round  \n",
       "5288  Old Trafford    Premier League  "
      ]
     },
     "execution_count": 6,
     "metadata": {},
     "output_type": "execute_result"
    }
   ],
   "source": [
    "# check dates, 1st league game vs ManU in 2011-12 is 15th Oct 2011, 2nd is 11th Feb 2012 (not Nov!)\n",
    "dflfc_games[(dflfc_games.Season == '2011-2012') & (dflfc_games.Opposition == 'Manchester United')]"
   ]
  },
  {
   "cell_type": "markdown",
   "metadata": {},
   "source": [
    "## Analyse the data\n",
    "\n",
    "Ask a question and find the answer!"
   ]
  },
  {
   "cell_type": "markdown",
   "metadata": {},
   "source": [
    "Show Liverpool's win % under Rodgers in Premiership, at the DATA_EXTRACT_DATE"
   ]
  },
  {
   "cell_type": "code",
   "execution_count": 7,
   "metadata": {
    "collapsed": false
   },
   "outputs": [
    {
     "name": "stdout",
     "output_type": "stream",
     "text": [
      "Rodgers record: Win percentage per season, at 4th Oct 2015\n"
     ]
    },
    {
     "data": {
      "text/html": [
       "<div>\n",
       "<table border=\"1\" class=\"dataframe\">\n",
       "  <thead>\n",
       "    <tr style=\"text-align: right;\">\n",
       "      <th></th>\n",
       "      <th>Wins</th>\n",
       "      <th>TotGames</th>\n",
       "      <th>Win%</th>\n",
       "    </tr>\n",
       "    <tr>\n",
       "      <th>Season</th>\n",
       "      <th></th>\n",
       "      <th></th>\n",
       "      <th></th>\n",
       "    </tr>\n",
       "  </thead>\n",
       "  <tbody>\n",
       "    <tr>\n",
       "      <th>2012-2013</th>\n",
       "      <td>16</td>\n",
       "      <td>38</td>\n",
       "      <td>42.1</td>\n",
       "    </tr>\n",
       "    <tr>\n",
       "      <th>2013-2014</th>\n",
       "      <td>26</td>\n",
       "      <td>38</td>\n",
       "      <td>68.4</td>\n",
       "    </tr>\n",
       "    <tr>\n",
       "      <th>2014-2015</th>\n",
       "      <td>18</td>\n",
       "      <td>38</td>\n",
       "      <td>47.4</td>\n",
       "    </tr>\n",
       "    <tr>\n",
       "      <th>2015-2016</th>\n",
       "      <td>3</td>\n",
       "      <td>8</td>\n",
       "      <td>37.5</td>\n",
       "    </tr>\n",
       "    <tr>\n",
       "      <th>Total</th>\n",
       "      <td>63</td>\n",
       "      <td>122</td>\n",
       "      <td>51.6</td>\n",
       "    </tr>\n",
       "  </tbody>\n",
       "</table>\n",
       "</div>"
      ],
      "text/plain": [
       "           Wins  TotGames  Win%\n",
       "Season                         \n",
       "2012-2013    16        38  42.1\n",
       "2013-2014    26        38  68.4\n",
       "2014-2015    18        38  47.4\n",
       "2015-2016     3         8  37.5\n",
       "Total        63       122  51.6"
      ]
     },
     "execution_count": 7,
     "metadata": {},
     "output_type": "execute_result"
    }
   ],
   "source": [
    "df_rodgers_wins = dflfc_games[(dflfc_games.Competition == 'Premier League') & (dflfc_games.Season >= '2012-2013') & (dflfc_games.Result == 'W')][['Season', 'Result']].groupby('Season').count()\n",
    "df_rodgers_wins.columns = ['Wins']\n",
    "df_rodgers_wins['TotGames'] = 38\n",
    "df_rodgers_wins.ix['2015-2016']['TotGames'] = dflfc_games[(dflfc_games.Season == '2015-2016') & (dflfc_games.Competition == 'Premier League')].Result.count()\n",
    "df_rodgers_wins.ix['Total'] = df_rodgers_wins.sum(axis=0)\n",
    "df_rodgers_wins['Win%'] = np.round(100*(df_rodgers_wins.Wins/df_rodgers_wins.TotGames), 1)\n",
    "print 'Rodgers record: Win percentage per season, at {}'.format(DATA_EXTRACT_DATE)\n",
    "df_rodgers_wins"
   ]
  },
  {
   "cell_type": "code",
   "execution_count": 8,
   "metadata": {
    "collapsed": false
   },
   "outputs": [
    {
     "name": "stdout",
     "output_type": "stream",
     "text": [
      "Rodgers record: Win percentage per season, at 4th Oct 2015\n"
     ]
    },
    {
     "data": {
      "text/html": [
       "<div>\n",
       "<table border=\"1\" class=\"dataframe\">\n",
       "  <thead>\n",
       "    <tr style=\"text-align: right;\">\n",
       "      <th></th>\n",
       "      <th>Wins</th>\n",
       "      <th>TotGames</th>\n",
       "      <th>Win%</th>\n",
       "    </tr>\n",
       "    <tr>\n",
       "      <th>Season</th>\n",
       "      <th></th>\n",
       "      <th></th>\n",
       "      <th></th>\n",
       "    </tr>\n",
       "  </thead>\n",
       "  <tbody>\n",
       "    <tr>\n",
       "      <th>2012-2013</th>\n",
       "      <td>16</td>\n",
       "      <td>38</td>\n",
       "      <td>42.1</td>\n",
       "    </tr>\n",
       "    <tr>\n",
       "      <th>2013-2014</th>\n",
       "      <td>26</td>\n",
       "      <td>38</td>\n",
       "      <td>68.4</td>\n",
       "    </tr>\n",
       "    <tr>\n",
       "      <th>2014-2015</th>\n",
       "      <td>18</td>\n",
       "      <td>38</td>\n",
       "      <td>47.4</td>\n",
       "    </tr>\n",
       "    <tr>\n",
       "      <th>2015-2016</th>\n",
       "      <td>3</td>\n",
       "      <td>8</td>\n",
       "      <td>37.5</td>\n",
       "    </tr>\n",
       "    <tr>\n",
       "      <th>Total</th>\n",
       "      <td>63</td>\n",
       "      <td>122</td>\n",
       "      <td>51.6</td>\n",
       "    </tr>\n",
       "  </tbody>\n",
       "</table>\n",
       "</div>"
      ],
      "text/plain": [
       "           Wins  TotGames  Win%\n",
       "Season                         \n",
       "2012-2013    16        38  42.1\n",
       "2013-2014    26        38  68.4\n",
       "2014-2015    18        38  47.4\n",
       "2015-2016     3         8  37.5\n",
       "Total        63       122  51.6"
      ]
     },
     "execution_count": 8,
     "metadata": {},
     "output_type": "execute_result"
    }
   ],
   "source": [
    "# produce same table using dates of manager's time in charge\n",
    "BR_START = pd.datetime(2012, 6, 1)\n",
    "BR_END = pd.datetime(2015, 10, 4) # stop press!\n",
    "df_rodgers_wins = dflfc_games[(dflfc_games.Competition == 'Premier League') & \n",
    "                              (dflfc_games.Date >= BR_START) & (dflfc_games.Date <= BR_END) & \n",
    "                              (dflfc_games.Result == 'W')][['Season', 'Result']].groupby('Season').count()\n",
    "df_rodgers_wins.columns = ['Wins']\n",
    "df_rodgers_wins['TotGames'] = 38\n",
    "df_rodgers_wins.ix['2015-2016']['TotGames'] = dflfc_games[(dflfc_games.Season == '2015-2016') & \n",
    "                                                          (dflfc_games.Competition == 'Premier League')].Result.count()\n",
    "df_rodgers_wins.ix['Total'] = df_rodgers_wins.sum(axis=0)\n",
    "df_rodgers_wins['Win%'] = np.round(100*(df_rodgers_wins.Wins/df_rodgers_wins.TotGames), 1)\n",
    "print 'Rodgers record: Win percentage per season, at {}'.format(DATA_EXTRACT_DATE)\n",
    "df_rodgers_wins"
   ]
  },
  {
   "cell_type": "code",
   "execution_count": 9,
   "metadata": {
    "collapsed": false
   },
   "outputs": [],
   "source": [
    "# define start and end dates for a selection of managers\n",
    "# only include full seasons before 2015 season\n",
    "manager_dict = collections.OrderedDict()\n",
    "manager_dict['Brendan Rodgers'] = [pd.datetime(2012, 6, 1), pd.datetime(2015, 10, 4)]\n",
    "manager_dict['Kenny Dalglish 2'] = [pd.datetime(2011, 1, 8), pd.datetime(2012, 5, 16)]\n",
    "manager_dict['Roy Hodgson'] = [pd.datetime(2010, 7, 1), pd.datetime(2011, 1, 8)]\n",
    "manager_dict['Rafael Benitez'] = [pd.datetime(2004, 6,16), pd.datetime(2010, 6, 3)]"
   ]
  },
  {
   "cell_type": "code",
   "execution_count": 10,
   "metadata": {
    "collapsed": false
   },
   "outputs": [
    {
     "name": "stdout",
     "output_type": "stream",
     "text": [
      "Brendan Rodgers [datetime.datetime(2012, 6, 1, 0, 0), datetime.datetime(2015, 10, 4, 0, 0)]\n",
      "Kenny Dalglish 2 [datetime.datetime(2011, 1, 8, 0, 0), datetime.datetime(2012, 5, 16, 0, 0)]\n",
      "Roy Hodgson [datetime.datetime(2010, 7, 1, 0, 0), datetime.datetime(2011, 1, 8, 0, 0)]\n",
      "Rafael Benitez [datetime.datetime(2004, 6, 16, 0, 0), datetime.datetime(2010, 6, 3, 0, 0)]\n"
     ]
    }
   ],
   "source": [
    "for k,v in manager_dict.items():\n",
    "    print k, v"
   ]
  },
  {
   "cell_type": "code",
   "execution_count": 11,
   "metadata": {
    "collapsed": false
   },
   "outputs": [
    {
     "name": "stdout",
     "output_type": "stream",
     "text": [
      "\n",
      "\n",
      "Manager: Brendan Rodgers \n",
      "From: 01 Jun 2012, To: 04 Oct 2015\n",
      "\n",
      "            W   D   L  TotGames    W%    D%    L%  TotPoints  PointsPerGame\n",
      "Season                                                                     \n",
      "2012-2013  16  13   9        38  42.1  34.2  23.7         61            1.6\n",
      "2013-2014  26   6   6        38  68.4  15.8  15.8         84            2.2\n",
      "2014-2015  18   8  12        38  47.4  21.1  31.6         62            1.6\n",
      "2015-2016   3   3   2         8  37.5  37.5  25.0         12            1.5\n",
      "Total      63  30  29       122  51.6  24.6  23.8        219            1.8\n",
      "\n",
      "\n",
      "Manager: Kenny Dalglish 2 \n",
      "From: 08 Jan 2011, To: 16 May 2012\n",
      "\n",
      "            W   D   L  TotGames    W%    D%    L%  TotPoints  PointsPerGame\n",
      "Season                                                                     \n",
      "2010-2011  10   3   5        18  55.6  16.7  27.8         33            1.8\n",
      "2011-2012  14  10  14        38  36.8  26.3  36.8         52            1.4\n",
      "Total      24  13  19        56  42.9  23.2  33.9         85            1.5\n",
      "\n",
      "\n",
      "Manager: Roy Hodgson \n",
      "From: 01 Jul 2010, To: 08 Jan 2011\n",
      "\n",
      "           W  D  L  TotGames  W%  D%  L%  TotPoints  PointsPerGame\n",
      "Season                                                            \n",
      "2010-2011  7  4  9        20  35  20  45         25            1.2\n",
      "Total      7  4  9        20  35  20  45         25            1.2\n",
      "\n",
      "\n",
      "Manager: Rafael Benitez \n",
      "From: 16 Jun 2004, To: 03 Jun 2010\n",
      "\n",
      "             W   D   L  TotGames    W%    D%    L%  TotPoints  PointsPerGame\n",
      "Season                                                                      \n",
      "2004-2005   17   7  14        38  44.7  18.4  36.8         58            1.5\n",
      "2005-2006   25   7   6        38  65.8  18.4  15.8         82            2.2\n",
      "2006-2007   20   8  10        38  52.6  21.1  26.3         68            1.8\n",
      "2007-2008   21  13   4        38  55.3  34.2  10.5         76            2.0\n",
      "2008-2009   25  11   2        38  65.8  28.9   5.3         86            2.3\n",
      "2009-2010   18   9  11        38  47.4  23.7  28.9         63            1.7\n",
      "Total      126  55  47       228  55.3  24.1  20.6        433            1.9\n"
     ]
    }
   ],
   "source": [
    "# show win% (etc) for all recent managers in manager dict\n",
    "df_mgr_sum = pd.DataFrame() # new dataframe for summary\n",
    "for manager, (start_date, end_date) in manager_dict.iteritems():\n",
    "    print '\\n\\nManager: {} \\nFrom: {}, To: {}\\n'.format(manager, start_date.strftime('%d %b %Y'), end_date.strftime('%d %b %Y'))\n",
    "    \n",
    "    df_mgr = dflfc_games[(dflfc_games.Competition == 'Premier League') & \n",
    "                              (dflfc_games.Date >= start_date) & (dflfc_games.Date <= end_date)]\\\n",
    "                                    [['Season', 'Result', 'Score']].groupby(['Season', 'Result']).count().unstack()\n",
    "\n",
    "    df_mgr.columns = df_mgr.columns.droplevel()\n",
    "    del df_mgr.columns.name\n",
    "    df_mgr = df_mgr.reindex_axis(['W', 'D', 'L'], axis=1)\n",
    "    df_mgr['TotGames'] = -1 # dummy value for new column\n",
    "\n",
    "    for s in df_mgr.index.values:\n",
    "        df_mgr.ix[s]['TotGames'] = dflfc_games[(dflfc_games.Season == s) &\n",
    "                                                    (dflfc_games.Competition == 'Premier League') &\n",
    "                                                    (dflfc_games.Date >= start_date) & \n",
    "                                                    (dflfc_games.Date <= end_date)].Result.count()\n",
    "    df_mgr.ix['Total'] = df_mgr.sum(axis=0)\n",
    "    df_mgr['W%'] = np.round(100*(df_mgr.W/df_mgr.TotGames), 1)\n",
    "    df_mgr['D%'] = np.round(100*(df_mgr.D/df_mgr.TotGames), 1)\n",
    "    df_mgr['L%'] = np.round(100*(df_mgr.L/df_mgr.TotGames), 1)\n",
    "    df_mgr['TotPoints'] = df_mgr.D + df_mgr.W*3\n",
    "    df_mgr['PointsPerGame'] = np.round(df_mgr.TotPoints/df_mgr.TotGames, 1)\n",
    "    \n",
    "    df_mgr_sum.set_value(manager, 'W%', df_mgr.ix['Total']['W%'])\n",
    "    df_mgr_sum.set_value(manager, 'PointsPerGame', df_mgr.ix['Total']['PointsPerGame'])\n",
    "    print df_mgr"
   ]
  },
  {
   "cell_type": "code",
   "execution_count": 12,
   "metadata": {
    "collapsed": false
   },
   "outputs": [
    {
     "data": {
      "text/html": [
       "<div>\n",
       "<table border=\"1\" class=\"dataframe\">\n",
       "  <thead>\n",
       "    <tr style=\"text-align: right;\">\n",
       "      <th></th>\n",
       "      <th>W%</th>\n",
       "      <th>PointsPerGame</th>\n",
       "    </tr>\n",
       "  </thead>\n",
       "  <tbody>\n",
       "    <tr>\n",
       "      <th>Brendan Rodgers</th>\n",
       "      <td>51.6</td>\n",
       "      <td>1.8</td>\n",
       "    </tr>\n",
       "    <tr>\n",
       "      <th>Kenny Dalglish 2</th>\n",
       "      <td>42.9</td>\n",
       "      <td>1.5</td>\n",
       "    </tr>\n",
       "    <tr>\n",
       "      <th>Roy Hodgson</th>\n",
       "      <td>35.0</td>\n",
       "      <td>1.2</td>\n",
       "    </tr>\n",
       "    <tr>\n",
       "      <th>Rafael Benitez</th>\n",
       "      <td>55.3</td>\n",
       "      <td>1.9</td>\n",
       "    </tr>\n",
       "  </tbody>\n",
       "</table>\n",
       "</div>"
      ],
      "text/plain": [
       "                    W%  PointsPerGame\n",
       "Brendan Rodgers   51.6            1.8\n",
       "Kenny Dalglish 2  42.9            1.5\n",
       "Roy Hodgson       35.0            1.2\n",
       "Rafael Benitez    55.3            1.9"
      ]
     },
     "execution_count": 12,
     "metadata": {},
     "output_type": "execute_result"
    }
   ],
   "source": [
    "df_mgr_sum"
   ]
  },
  {
   "cell_type": "code",
   "execution_count": 13,
   "metadata": {
    "collapsed": false
   },
   "outputs": [
    {
     "data": {
      "image/png": "[encoded data removed]",
      "text/plain": [
       "<matplotlib.figure.Figure at 0xbcab6d8>"
      ]
     },
     "metadata": {},
     "output_type": "display_data"
    }
   ],
   "source": [
    "# plot as bar chart\n",
    "fig = plt.figure(figsize=(9, 6))\n",
    "ax = df_mgr_sum['PointsPerGame'].plot(kind='bar', color='r')\n",
    "ax.set_title(\"Summary view of each manager's points pergGame\")\n",
    "ax.set_xlabel('Manager')\n",
    "ax.set_ylabel('PPG')\n",
    "ax.text(-0.45, 1.92, 'prepared by: @lfcsorted', bbox=dict(facecolor='none', edgecolor='none', alpha=0.6))\n",
    "plt.show()"
   ]
  },
  {
   "cell_type": "code",
   "execution_count": 14,
   "metadata": {
    "collapsed": false
   },
   "outputs": [
    {
     "data": {
      "image/png": "[encoded data removed]",
      "text/plain": [
       "<matplotlib.figure.Figure at 0xbdf7d68>"
      ]
     },
     "metadata": {},
     "output_type": "display_data"
    }
   ],
   "source": [
    "# plot as bar chart, with PPG above the bar\n",
    "fig = plt.figure(figsize=(9, 6))\n",
    "x = x = range(1, len(df_mgr_sum)+1)\n",
    "y = df_mgr_sum['PointsPerGame'].values\n",
    "ax = plt.bar(x, y, align='center', color='r', width=0.6)\n",
    "\n",
    "# plot ppg as text above bar\n",
    "for xidx, yt in enumerate(y):\n",
    "    xt = xidx + 1\n",
    "    plt.annotate(str(yt), xy=(xt,yt), xytext=(xt, yt), va=\"bottom\", ha=\"center\")\n",
    "    \n",
    "# add labels\n",
    "plt.xticks(x, df_mgr_sum.index.values, rotation='vertical')\n",
    "plt.ylim((0, 2.2))\n",
    "plt.title(\"Summary of each manager's points per game\")\n",
    "plt.xlabel('Manager')\n",
    "plt.ylabel('PPG')\n",
    "plt.text(0.55, 2.1, 'prepared by: @lfcsorted', bbox=dict(facecolor='none', edgecolor='none', alpha=0.6))\n",
    "\n",
    "# plot\n",
    "plt.show()\n",
    "fig.savefig('ManagervsPPG.png', bbox_inches='tight')"
   ]
  },
  {
   "cell_type": "code",
   "execution_count": null,
   "metadata": {
    "collapsed": true
   },
   "outputs": [],
   "source": []
  }
 ],
 "metadata": {
  "kernelspec": {
   "display_name": "Python 2",
   "language": "python",
   "name": "python2"
  },
  "language_info": {
   "codemirror_mode": {
    "name": "ipython",
    "version": 2
   },
   "file_extension": ".py",
   "mimetype": "text/x-python",
   "name": "python",
   "nbconvert_exporter": "python",
   "pygments_lexer": "ipython2",
   "version": "2.7.10"
  }
 },
 "nbformat": 4,
 "nbformat_minor": 0
}
